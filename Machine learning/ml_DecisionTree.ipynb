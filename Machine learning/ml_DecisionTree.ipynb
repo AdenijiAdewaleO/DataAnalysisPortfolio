{
 "cells": [
  {
   "cell_type": "markdown",
   "metadata": {},
   "source": [
    "# Modeling with DecisionTreeClassifier"
   ]
  },
  {
   "cell_type": "code",
   "execution_count": 1,
   "metadata": {},
   "outputs": [],
   "source": [
    "import pandas as pd\n",
    "import numpy as np\n",
    "\n",
    "#Sklearn for model fitting and scroing\n",
    "from sklearn.tree import DecisionTreeClassifier\n",
    "from sklearn.tree import plot_tree\n",
    "from sklearn.model_selection import train_test_split\n",
    "from sklearn.preprocessing import StandardScaler\n",
    "from sklearn.pipeline import Pipeline\n",
    "from sklearn.model_selection import cross_val_score\n",
    "from sklearn.metrics import roc_auc_score\n",
    "from sklearn.metrics import accuracy_score\n",
    "\n",
    "##Seaborn for fancy plots. \n",
    "import matplotlib.pyplot as plt\n",
    "import seaborn as sns\n",
    "plt.rcParams[\"figure.figsize\"] = (8,8)"
   ]
  },
  {
   "cell_type": "code",
   "execution_count": 2,
   "metadata": {},
   "outputs": [
    {
     "data": {
      "text/html": [
       "<div>\n",
       "<style scoped>\n",
       "    .dataframe tbody tr th:only-of-type {\n",
       "        vertical-align: middle;\n",
       "    }\n",
       "\n",
       "    .dataframe tbody tr th {\n",
       "        vertical-align: top;\n",
       "    }\n",
       "\n",
       "    .dataframe thead th {\n",
       "        text-align: right;\n",
       "    }\n",
       "</style>\n",
       "<table border=\"1\" class=\"dataframe\">\n",
       "  <thead>\n",
       "    <tr style=\"text-align: right;\">\n",
       "      <th></th>\n",
       "      <th>target</th>\n",
       "      <th>var_1</th>\n",
       "      <th>var_2</th>\n",
       "      <th>var_3</th>\n",
       "      <th>var_4</th>\n",
       "      <th>var_5</th>\n",
       "      <th>var_6</th>\n",
       "      <th>var_7</th>\n",
       "      <th>var_8</th>\n",
       "      <th>var_9</th>\n",
       "      <th>...</th>\n",
       "      <th>var_191</th>\n",
       "      <th>var_192</th>\n",
       "      <th>var_193</th>\n",
       "      <th>var_194</th>\n",
       "      <th>var_195</th>\n",
       "      <th>var_196</th>\n",
       "      <th>var_197</th>\n",
       "      <th>var_198</th>\n",
       "      <th>var_199</th>\n",
       "      <th>var_200</th>\n",
       "    </tr>\n",
       "  </thead>\n",
       "  <tbody>\n",
       "    <tr>\n",
       "      <th>39</th>\n",
       "      <td>1</td>\n",
       "      <td>0.945</td>\n",
       "      <td>0.604</td>\n",
       "      <td>0.381</td>\n",
       "      <td>0.724</td>\n",
       "      <td>0.863</td>\n",
       "      <td>0.378</td>\n",
       "      <td>0.724</td>\n",
       "      <td>0.950</td>\n",
       "      <td>0.663</td>\n",
       "      <td>...</td>\n",
       "      <td>0.951</td>\n",
       "      <td>0.568</td>\n",
       "      <td>0.413</td>\n",
       "      <td>0.225</td>\n",
       "      <td>0.434</td>\n",
       "      <td>0.810</td>\n",
       "      <td>0.866</td>\n",
       "      <td>0.583</td>\n",
       "      <td>0.462</td>\n",
       "      <td>0.671</td>\n",
       "    </tr>\n",
       "    <tr>\n",
       "      <th>58</th>\n",
       "      <td>1</td>\n",
       "      <td>0.653</td>\n",
       "      <td>0.172</td>\n",
       "      <td>0.091</td>\n",
       "      <td>0.845</td>\n",
       "      <td>0.238</td>\n",
       "      <td>0.532</td>\n",
       "      <td>0.920</td>\n",
       "      <td>0.891</td>\n",
       "      <td>0.760</td>\n",
       "      <td>...</td>\n",
       "      <td>0.558</td>\n",
       "      <td>0.728</td>\n",
       "      <td>0.494</td>\n",
       "      <td>0.802</td>\n",
       "      <td>0.744</td>\n",
       "      <td>0.257</td>\n",
       "      <td>0.889</td>\n",
       "      <td>0.920</td>\n",
       "      <td>0.735</td>\n",
       "      <td>0.502</td>\n",
       "    </tr>\n",
       "    <tr>\n",
       "      <th>237</th>\n",
       "      <td>0</td>\n",
       "      <td>0.244</td>\n",
       "      <td>0.751</td>\n",
       "      <td>0.802</td>\n",
       "      <td>0.871</td>\n",
       "      <td>0.180</td>\n",
       "      <td>0.144</td>\n",
       "      <td>0.272</td>\n",
       "      <td>0.766</td>\n",
       "      <td>0.835</td>\n",
       "      <td>...</td>\n",
       "      <td>0.133</td>\n",
       "      <td>0.388</td>\n",
       "      <td>0.856</td>\n",
       "      <td>0.194</td>\n",
       "      <td>0.641</td>\n",
       "      <td>0.852</td>\n",
       "      <td>0.752</td>\n",
       "      <td>0.894</td>\n",
       "      <td>0.627</td>\n",
       "      <td>0.885</td>\n",
       "    </tr>\n",
       "    <tr>\n",
       "      <th>102</th>\n",
       "      <td>0</td>\n",
       "      <td>0.734</td>\n",
       "      <td>0.287</td>\n",
       "      <td>0.674</td>\n",
       "      <td>0.313</td>\n",
       "      <td>0.184</td>\n",
       "      <td>0.647</td>\n",
       "      <td>0.719</td>\n",
       "      <td>0.053</td>\n",
       "      <td>0.593</td>\n",
       "      <td>...</td>\n",
       "      <td>0.510</td>\n",
       "      <td>0.744</td>\n",
       "      <td>0.825</td>\n",
       "      <td>0.666</td>\n",
       "      <td>0.582</td>\n",
       "      <td>0.462</td>\n",
       "      <td>0.124</td>\n",
       "      <td>0.667</td>\n",
       "      <td>0.141</td>\n",
       "      <td>0.346</td>\n",
       "    </tr>\n",
       "    <tr>\n",
       "      <th>178</th>\n",
       "      <td>1</td>\n",
       "      <td>0.414</td>\n",
       "      <td>0.934</td>\n",
       "      <td>0.677</td>\n",
       "      <td>0.476</td>\n",
       "      <td>0.187</td>\n",
       "      <td>0.167</td>\n",
       "      <td>0.571</td>\n",
       "      <td>0.260</td>\n",
       "      <td>0.681</td>\n",
       "      <td>...</td>\n",
       "      <td>0.311</td>\n",
       "      <td>0.917</td>\n",
       "      <td>0.580</td>\n",
       "      <td>0.589</td>\n",
       "      <td>0.256</td>\n",
       "      <td>0.107</td>\n",
       "      <td>0.178</td>\n",
       "      <td>0.533</td>\n",
       "      <td>0.455</td>\n",
       "      <td>0.669</td>\n",
       "    </tr>\n",
       "  </tbody>\n",
       "</table>\n",
       "<p>5 rows × 201 columns</p>\n",
       "</div>"
      ],
      "text/plain": [
       "     target  var_1  var_2  var_3  var_4  var_5  var_6  var_7  var_8  var_9  \\\n",
       "39        1  0.945  0.604  0.381  0.724  0.863  0.378  0.724  0.950  0.663   \n",
       "58        1  0.653  0.172  0.091  0.845  0.238  0.532  0.920  0.891  0.760   \n",
       "237       0  0.244  0.751  0.802  0.871  0.180  0.144  0.272  0.766  0.835   \n",
       "102       0  0.734  0.287  0.674  0.313  0.184  0.647  0.719  0.053  0.593   \n",
       "178       1  0.414  0.934  0.677  0.476  0.187  0.167  0.571  0.260  0.681   \n",
       "\n",
       "     ...  var_191  var_192  var_193  var_194  var_195  var_196  var_197  \\\n",
       "39   ...    0.951    0.568    0.413    0.225    0.434    0.810    0.866   \n",
       "58   ...    0.558    0.728    0.494    0.802    0.744    0.257    0.889   \n",
       "237  ...    0.133    0.388    0.856    0.194    0.641    0.852    0.752   \n",
       "102  ...    0.510    0.744    0.825    0.666    0.582    0.462    0.124   \n",
       "178  ...    0.311    0.917    0.580    0.589    0.256    0.107    0.178   \n",
       "\n",
       "     var_198  var_199  var_200  \n",
       "39     0.583    0.462    0.671  \n",
       "58     0.920    0.735    0.502  \n",
       "237    0.894    0.627    0.885  \n",
       "102    0.667    0.141    0.346  \n",
       "178    0.533    0.455    0.669  \n",
       "\n",
       "[5 rows x 201 columns]"
      ]
     },
     "execution_count": 2,
     "metadata": {},
     "output_type": "execute_result"
    }
   ],
   "source": [
    "#Load data\n",
    "df = pd.read_csv(\"Data/training.csv\")\n",
    "df = df.drop(columns={\"id\"})\n",
    "df.sample(5)"
   ]
  },
  {
   "cell_type": "markdown",
   "metadata": {},
   "source": [
    "### Starting\n",
    "\n",
    "The first stage will be to look at the data in an initial exploratory data analysis. We know that our data is made up of numerical variables and is in a standardized form. The records are complete and there are non null values, so the data is in a clean state."
   ]
  },
  {
   "cell_type": "code",
   "execution_count": 3,
   "metadata": {},
   "outputs": [],
   "source": [
    "import ml_utils\n",
    "df_eda = ml_utils.edaDF(df, \"target\")\n",
    "num_var = list(df.columns)\n",
    "df_eda.setNum(num_var)"
   ]
  },
  {
   "cell_type": "code",
   "execution_count": 4,
   "metadata": {},
   "outputs": [
    {
     "data": {
      "application/vnd.jupyter.widget-view+json": {
       "model_id": "9908c2277b9b49b9b41a295275bffc82",
       "version_major": 2,
       "version_minor": 0
      },
      "text/plain": [
       "Tab(children=(Output(), Output(), Output(), Output()), selected_index=0, titles=('Info', 'Statistics', 'Catego…"
      ]
     },
     "metadata": {},
     "output_type": "display_data"
    }
   ],
   "source": [
    "df_eda.fullEDA()\n"
   ]
  },
  {
   "cell_type": "code",
   "execution_count": 6,
   "metadata": {},
   "outputs": [
    {
     "data": {
      "text/plain": [
       "(250, 201)"
      ]
     },
     "execution_count": 6,
     "metadata": {},
     "output_type": "execute_result"
    }
   ],
   "source": [
    "df.shape"
   ]
  },
  {
   "cell_type": "markdown",
   "metadata": {},
   "source": [
    "### Model fitting\n",
    "\n",
    "As mentioned above, our data is in a clean state and as such, we will proceed to model fitting. \n",
    "The model that is used is the DecisionTreeClassifier.\n",
    "Conidering that the data set is small-sized (250 rows of data), we will use a 70/30 percent split for the train/test data."
   ]
  },
  {
   "cell_type": "code",
   "execution_count": 15,
   "metadata": {},
   "outputs": [],
   "source": [
    "y = np.array(df[\"target\"]).reshape(-1,1)\n",
    "X = np.array(df.drop(columns={\"target\"}))\n",
    "\n",
    "#train size = 70%\n",
    "X_train, X_test, y_train, y_test = train_test_split(X, y, random_state=0, train_size=.7)\n"
   ]
  },
  {
   "cell_type": "markdown",
   "metadata": {},
   "source": [
    "Model 1: Here, the DecisionTreeClassifier is used with default hyperparameters "
   ]
  },
  {
   "cell_type": "code",
   "execution_count": 16,
   "metadata": {},
   "outputs": [
    {
     "name": "stdout",
     "output_type": "stream",
     "text": [
      "Training Accuracy: 1.0\n",
      "Testing Accuracy: 0.6266666666666667\n"
     ]
    }
   ],
   "source": [
    "pipeline_model1 = [\n",
    "    ('scaler', StandardScaler()),\n",
    "    ('DT', DecisionTreeClassifier(random_state=0))\n",
    "    ]\n",
    "\n",
    "model1 = Pipeline(pipeline_model1)\n",
    "model1 = model1.fit(X_train, y_train)\n",
    "print(\"Training Accuracy:\", model1.score(X_train, y_train))\n",
    "print(\"Testing Accuracy:\", model1.score(X_test, y_test))"
   ]
  },
  {
   "cell_type": "markdown",
   "metadata": {},
   "source": [
    "Model 2: The DecisionTreeClassifier is used with the criterion set to \"entropy\". \n",
    "We noticed that there is not so much difference in the testing accuracy "
   ]
  },
  {
   "cell_type": "code",
   "execution_count": 17,
   "metadata": {},
   "outputs": [
    {
     "name": "stdout",
     "output_type": "stream",
     "text": [
      "Training Accuracy: 1.0\n",
      "Testing Accuracy: 0.6133333333333333\n"
     ]
    }
   ],
   "source": [
    "\n",
    "pipeline_model2 = [\n",
    "    ('scaler', StandardScaler()),\n",
    "    ('DT', DecisionTreeClassifier(random_state=0, criterion=\"entropy\"))\n",
    "    ]\n",
    "model2 = Pipeline(pipeline_model2)\n",
    "model2 = model2.fit(X_train, y_train)\n",
    "print(\"Training Accuracy:\", model2.score(X_train, y_train))\n",
    "print(\"Testing Accuracy:\", model2.score(X_test, y_test))"
   ]
  },
  {
   "cell_type": "markdown",
   "metadata": {},
   "source": [
    "Model 3: The DecisionTreeClassifier is used with the criterion set default and max_depth set to 5. \n",
    "There was improvement in the testing accuracy while the traininig accuracy dropped slightly. This was considered as the best model because further tuning seems not to yield better results."
   ]
  },
  {
   "cell_type": "code",
   "execution_count": 19,
   "metadata": {},
   "outputs": [
    {
     "name": "stdout",
     "output_type": "stream",
     "text": [
      "Training Accuracy: 0.9257142857142857\n",
      "Testing Accuracy: 0.64\n"
     ]
    }
   ],
   "source": [
    "#Build pipeline\n",
    "pipeline_best = [\n",
    "    ('scaler', StandardScaler()),\n",
    "    ('DT', DecisionTreeClassifier(random_state=0, max_depth=5))\n",
    "    ]\n",
    "\n",
    "best = Pipeline(pipeline_best)\n",
    "best = best.fit(X_train, y_train)\n",
    "print(\"Training Accuracy:\", best.score(X_train, y_train))\n",
    "print(\"Testing Accuracy:\", best.score(X_test, y_test))"
   ]
  },
  {
   "cell_type": "markdown",
   "metadata": {},
   "source": [
    "### Finishing"
   ]
  },
  {
   "cell_type": "code",
   "execution_count": 21,
   "metadata": {},
   "outputs": [
    {
     "name": "stdout",
     "output_type": "stream",
     "text": [
      "0.64\n",
      "Pipeline(steps=[('scaler', StandardScaler()),\n",
      "                ('DT', DecisionTreeClassifier(max_depth=5, random_state=0))])\n"
     ]
    }
   ],
   "source": [
    "print(best.score(X_test, y_test))\n",
    "print(best)"
   ]
  },
  {
   "cell_type": "markdown",
   "metadata": {},
   "source": [
    "### Testing"
   ]
  },
  {
   "cell_type": "code",
   "execution_count": 20,
   "metadata": {},
   "outputs": [
    {
     "name": "stdout",
     "output_type": "stream",
     "text": [
      "0.5429167644854836\n",
      "0.5427848101265823\n",
      "Adewale Adeniji 0.542850787306033\n"
     ]
    }
   ],
   "source": [
    "#Load Test Data\n",
    "test_df = pd.read_csv(\"testing.csv\")\n",
    "test_df = test_df.drop(columns={\"id\"})\n",
    "#Create tests and score\n",
    "test_y = np.array(test_df[\"target\"]).reshape(-1,1)\n",
    "test_X = np.array(test_df.drop(columns={\"target\"}))\n",
    "\n",
    "preds = best.predict(test_X)\n",
    "\n",
    "roc_score = roc_auc_score(test_y, preds)\n",
    "acc_score = accuracy_score(test_y, preds)\n",
    "\n",
    "print(roc_score)\n",
    "print(acc_score)\n",
    "print(name, np.mean([roc_score, acc_score]))\n"
   ]
  },
  {
   "attachments": {},
   "cell_type": "markdown",
   "metadata": {},
   "source": [
    "### What Accuracy Changes Were Used\n",
    "\n",
    "What was done to try to increase accuracy and/or limit overfitting:\n",
    "<ul> \n",
    "<li>The first step was to change the diffult train_size of the train_test_split to 0.7 so as to have more data for testing.\n",
    "<li>Secondly, the max_depth of the DecisionTreeClassifier was set to 5 as this was found to produce the best result for the test data.\n",
    "</ul>"
   ]
  }
 ],
 "metadata": {
  "interpreter": {
   "hash": "4d722d3adfa415172c1f5238b519fb86b488acdae450fd691ab06c09f4ca9173"
  },
  "kernelspec": {
   "display_name": "Python 3.9.7 64-bit ('ml3950': conda)",
   "language": "python",
   "name": "python3"
  },
  "language_info": {
   "codemirror_mode": {
    "name": "ipython",
    "version": 3
   },
   "file_extension": ".py",
   "mimetype": "text/x-python",
   "name": "python",
   "nbconvert_exporter": "python",
   "pygments_lexer": "ipython3",
   "version": "3.11.4"
  },
  "orig_nbformat": 4
 },
 "nbformat": 4,
 "nbformat_minor": 2
}
