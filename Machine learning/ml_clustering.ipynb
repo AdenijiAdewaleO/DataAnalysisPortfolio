{
 "cells": [
  {
   "cell_type": "markdown",
   "metadata": {},
   "source": [
    "# Clustering\n",
    "\n",
    "For this project, we want to use some clustering knowledge to build a function that can generate handwritten numbers from a provided number. \n",
    "\n",
    "### Requirements\n",
    "<ul>\n",
    "<li>Use clustering to take the X data (the features/pixels) of the MNIST dataset, and group it into clusters. \n",
    "    <ul>\n",
    "    <li> Do not use the targets from the dataset at all. \n",
    "    <li> Use as many clusters as you think is appropriate.\n",
    "    </ul>\n",
    "<li>Assign labels to your clusters, so there is now a label for each cluster. You'll need to manually do a little mapping here by eye. \n",
    "<li><b>So, to this point. You take the images, ditch their labels, and do clustering to group them. You don't know which cluster is which digit. You have to then label them, or look at each one and say, \"looks like 7s\", then assign that group a label of 7. </b>\n",
    "<li>Use GMM to build a function that can generate a new digit from the information in the cluster. \n",
    "<li>Write a function, writeNumber, that can take in an integer (you can assume it is between 1 and 20 digits, this is mostly for printing purposes, the modelling part isn't impacted by this at all) and print out that integer as a generated handwritten number. \n",
    "<li><b>When generating the handwritten numbers, each version of a digit should be different. I.e. If the number printed is 22222, there should not be 5 identical 2s, they should vary a bit like real writing. Each digit should be a new generation of data.</b>\n",
    "</ul>\n",
    "\n",
    "### Deliverables\n",
    "Submit your .ipynb file to the Moodle dropbox. PLEASE make sure that the file runs BY ITSELF outside of importing libraries. It should not reference any other files, either data or code. \n",
    "\n",
    "Create a function called writeNumber, which takes a number as an input, and prints it out as a series of handwritten digits."
   ]
  },
  {
   "cell_type": "markdown",
   "metadata": {},
   "source": [
    "## Load Data\n",
    "<b> Please do not change this (substantially), probably outside of choosing between the full data and a subset. Don't load the target. </b>\n",
    "\n",
    "Note: testing will be much faster with a subset of records. "
   ]
  },
  {
   "cell_type": "code",
   "execution_count": 1,
   "metadata": {},
   "outputs": [],
   "source": [
    "import matplotlib.pyplot as plt\n",
    "import seaborn as sns\n",
    "import numpy as np\n",
    "import pandas as pd\n",
    "\n",
    "from sklearn.cluster import KMeans\n",
    "from sklearn.decomposition import PCA\n",
    "from sklearn.manifold import TSNE\n",
    "from sklearn.metrics import silhouette_score\n",
    "import math"
   ]
  },
  {
   "cell_type": "code",
   "execution_count": 2,
   "metadata": {
    "scrolled": true
   },
   "outputs": [
    {
     "name": "stdout",
     "output_type": "stream",
     "text": [
      "(70000, 784)\n"
     ]
    }
   ],
   "source": [
    "#Load Data\n",
    "from sklearn.datasets import fetch_openml\n",
    "mnist = fetch_openml('mnist_784', version=1)\n",
    "#mnist = mnist[0:15000]\n",
    "X = mnist[\"data\"]\n",
    "print(X.shape)"
   ]
  },
  {
   "cell_type": "markdown",
   "metadata": {},
   "source": [
    "## Cluster \n",
    "\n",
    "We need to break the data into clusters first... "
   ]
  },
  {
   "cell_type": "code",
   "execution_count": 3,
   "metadata": {},
   "outputs": [
    {
     "data": {
      "text/plain": [
       "(70000,)"
      ]
     },
     "execution_count": 3,
     "metadata": {},
     "output_type": "execute_result"
    }
   ],
   "source": [
    "# Cluster data using KMeans model without PCA. We already know we have 10 digits so 10 clusters needed\n",
    "#This will be a first trial to see what the result would be like\n",
    "num_clus = 10\n",
    "kmeans = KMeans(num_clus, random_state=0)\n",
    "kmeans.fit(X)\n",
    "clusters = pd.Series(kmeans.labels_)\n",
    "clusters.shape"
   ]
  },
  {
   "cell_type": "code",
   "execution_count": 4,
   "metadata": {
    "scrolled": true
   },
   "outputs": [
    {
     "data": {
      "image/png": "[encoded data removed]",
      "text/plain": [
       "<Figure size 500x200 with 10 Axes>"
      ]
     },
     "metadata": {},
     "output_type": "display_data"
    }
   ],
   "source": [
    "# Plot the center of the clusters to visualize the data\n",
    "fig, ax = plt.subplots(2, 5, figsize=(5, 2))\n",
    "centers = kmeans.cluster_centers_.reshape(num_clus, 28, 28)\n",
    "for axi, center in zip(ax.flat, centers):\n",
    "    axi.axis('off')\n",
    "    axi.imshow(center, interpolation='nearest', cmap=plt.cm.binary)\n",
    "plt.subplots_adjust(wspace=0, hspace=0 )"
   ]
  },
  {
   "cell_type": "code",
   "execution_count": 5,
   "metadata": {},
   "outputs": [
    {
     "data": {
      "text/html": [
       "<div>\n",
       "<style scoped>\n",
       "    .dataframe tbody tr th:only-of-type {\n",
       "        vertical-align: middle;\n",
       "    }\n",
       "\n",
       "    .dataframe tbody tr th {\n",
       "        vertical-align: top;\n",
       "    }\n",
       "\n",
       "    .dataframe thead th {\n",
       "        text-align: right;\n",
       "    }\n",
       "</style>\n",
       "<table border=\"1\" class=\"dataframe\">\n",
       "  <thead>\n",
       "    <tr style=\"text-align: right;\">\n",
       "      <th></th>\n",
       "      <th>pixel1</th>\n",
       "      <th>pixel2</th>\n",
       "      <th>pixel3</th>\n",
       "      <th>pixel4</th>\n",
       "      <th>pixel5</th>\n",
       "      <th>pixel6</th>\n",
       "      <th>pixel7</th>\n",
       "      <th>pixel8</th>\n",
       "      <th>pixel9</th>\n",
       "      <th>pixel10</th>\n",
       "      <th>...</th>\n",
       "      <th>pixel776</th>\n",
       "      <th>pixel777</th>\n",
       "      <th>pixel778</th>\n",
       "      <th>pixel779</th>\n",
       "      <th>pixel780</th>\n",
       "      <th>pixel781</th>\n",
       "      <th>pixel782</th>\n",
       "      <th>pixel783</th>\n",
       "      <th>pixel784</th>\n",
       "      <th>clusters</th>\n",
       "    </tr>\n",
       "  </thead>\n",
       "  <tbody>\n",
       "    <tr>\n",
       "      <th>0</th>\n",
       "      <td>0.0</td>\n",
       "      <td>0.0</td>\n",
       "      <td>0.0</td>\n",
       "      <td>0.0</td>\n",
       "      <td>0.0</td>\n",
       "      <td>0.0</td>\n",
       "      <td>0.0</td>\n",
       "      <td>0.0</td>\n",
       "      <td>0.0</td>\n",
       "      <td>0.0</td>\n",
       "      <td>...</td>\n",
       "      <td>0.0</td>\n",
       "      <td>0.0</td>\n",
       "      <td>0.0</td>\n",
       "      <td>0.0</td>\n",
       "      <td>0.0</td>\n",
       "      <td>0.0</td>\n",
       "      <td>0.0</td>\n",
       "      <td>0.0</td>\n",
       "      <td>0.0</td>\n",
       "      <td>3</td>\n",
       "    </tr>\n",
       "    <tr>\n",
       "      <th>1</th>\n",
       "      <td>0.0</td>\n",
       "      <td>0.0</td>\n",
       "      <td>0.0</td>\n",
       "      <td>0.0</td>\n",
       "      <td>0.0</td>\n",
       "      <td>0.0</td>\n",
       "      <td>0.0</td>\n",
       "      <td>0.0</td>\n",
       "      <td>0.0</td>\n",
       "      <td>0.0</td>\n",
       "      <td>...</td>\n",
       "      <td>0.0</td>\n",
       "      <td>0.0</td>\n",
       "      <td>0.0</td>\n",
       "      <td>0.0</td>\n",
       "      <td>0.0</td>\n",
       "      <td>0.0</td>\n",
       "      <td>0.0</td>\n",
       "      <td>0.0</td>\n",
       "      <td>0.0</td>\n",
       "      <td>9</td>\n",
       "    </tr>\n",
       "    <tr>\n",
       "      <th>2</th>\n",
       "      <td>0.0</td>\n",
       "      <td>0.0</td>\n",
       "      <td>0.0</td>\n",
       "      <td>0.0</td>\n",
       "      <td>0.0</td>\n",
       "      <td>0.0</td>\n",
       "      <td>0.0</td>\n",
       "      <td>0.0</td>\n",
       "      <td>0.0</td>\n",
       "      <td>0.0</td>\n",
       "      <td>...</td>\n",
       "      <td>0.0</td>\n",
       "      <td>0.0</td>\n",
       "      <td>0.0</td>\n",
       "      <td>0.0</td>\n",
       "      <td>0.0</td>\n",
       "      <td>0.0</td>\n",
       "      <td>0.0</td>\n",
       "      <td>0.0</td>\n",
       "      <td>0.0</td>\n",
       "      <td>7</td>\n",
       "    </tr>\n",
       "    <tr>\n",
       "      <th>3</th>\n",
       "      <td>0.0</td>\n",
       "      <td>0.0</td>\n",
       "      <td>0.0</td>\n",
       "      <td>0.0</td>\n",
       "      <td>0.0</td>\n",
       "      <td>0.0</td>\n",
       "      <td>0.0</td>\n",
       "      <td>0.0</td>\n",
       "      <td>0.0</td>\n",
       "      <td>0.0</td>\n",
       "      <td>...</td>\n",
       "      <td>0.0</td>\n",
       "      <td>0.0</td>\n",
       "      <td>0.0</td>\n",
       "      <td>0.0</td>\n",
       "      <td>0.0</td>\n",
       "      <td>0.0</td>\n",
       "      <td>0.0</td>\n",
       "      <td>0.0</td>\n",
       "      <td>0.0</td>\n",
       "      <td>8</td>\n",
       "    </tr>\n",
       "    <tr>\n",
       "      <th>4</th>\n",
       "      <td>0.0</td>\n",
       "      <td>0.0</td>\n",
       "      <td>0.0</td>\n",
       "      <td>0.0</td>\n",
       "      <td>0.0</td>\n",
       "      <td>0.0</td>\n",
       "      <td>0.0</td>\n",
       "      <td>0.0</td>\n",
       "      <td>0.0</td>\n",
       "      <td>0.0</td>\n",
       "      <td>...</td>\n",
       "      <td>0.0</td>\n",
       "      <td>0.0</td>\n",
       "      <td>0.0</td>\n",
       "      <td>0.0</td>\n",
       "      <td>0.0</td>\n",
       "      <td>0.0</td>\n",
       "      <td>0.0</td>\n",
       "      <td>0.0</td>\n",
       "      <td>0.0</td>\n",
       "      <td>1</td>\n",
       "    </tr>\n",
       "  </tbody>\n",
       "</table>\n",
       "<p>5 rows × 785 columns</p>\n",
       "</div>"
      ],
      "text/plain": [
       "   pixel1  pixel2  pixel3  pixel4  pixel5  pixel6  pixel7  pixel8  pixel9  \\\n",
       "0     0.0     0.0     0.0     0.0     0.0     0.0     0.0     0.0     0.0   \n",
       "1     0.0     0.0     0.0     0.0     0.0     0.0     0.0     0.0     0.0   \n",
       "2     0.0     0.0     0.0     0.0     0.0     0.0     0.0     0.0     0.0   \n",
       "3     0.0     0.0     0.0     0.0     0.0     0.0     0.0     0.0     0.0   \n",
       "4     0.0     0.0     0.0     0.0     0.0     0.0     0.0     0.0     0.0   \n",
       "\n",
       "   pixel10  ...  pixel776  pixel777  pixel778  pixel779  pixel780  pixel781  \\\n",
       "0      0.0  ...       0.0       0.0       0.0       0.0       0.0       0.0   \n",
       "1      0.0  ...       0.0       0.0       0.0       0.0       0.0       0.0   \n",
       "2      0.0  ...       0.0       0.0       0.0       0.0       0.0       0.0   \n",
       "3      0.0  ...       0.0       0.0       0.0       0.0       0.0       0.0   \n",
       "4      0.0  ...       0.0       0.0       0.0       0.0       0.0       0.0   \n",
       "\n",
       "   pixel782  pixel783  pixel784  clusters  \n",
       "0       0.0       0.0       0.0         3  \n",
       "1       0.0       0.0       0.0         9  \n",
       "2       0.0       0.0       0.0         7  \n",
       "3       0.0       0.0       0.0         8  \n",
       "4       0.0       0.0       0.0         1  \n",
       "\n",
       "[5 rows x 785 columns]"
      ]
     },
     "execution_count": 5,
     "metadata": {},
     "output_type": "execute_result"
    }
   ],
   "source": [
    "# Combime the digit data (X) and the cluster labels, into 1 data frame\n",
    "clusters = pd.Series(kmeans.labels_, name='clusters')\n",
    "clusters = clusters.to_frame()\n",
    "df = pd.merge(X, clusters, left_index=True, right_index=True)\n",
    "df.head()"
   ]
  },
  {
   "cell_type": "markdown",
   "metadata": {},
   "source": [
    "From the above view of the center of the clusters, we see that the the clustering was able to distinctly identify some of the numbers. However, the numbers 4 and 7 are not quite easily discernable from the above plots. We will also plot some random rows from each cluster to ascertaiin what figures they are"
   ]
  },
  {
   "cell_type": "code",
   "execution_count": 6,
   "metadata": {},
   "outputs": [],
   "source": [
    "# We write a function to help with visualizing sample digits from different clusters\n",
    "\n",
    "def viewCluster(cluster_label, data, n_samples=30):\n",
    "    import math\n",
    "     \n",
    "    col = 5\n",
    "    row = math.ceil(n_samples/col)\n",
    "    fig, ax = plt.subplots(row, col, figsize=(row, col))\n",
    "    \n",
    "    samples_index = data.clusters[data.clusters==cluster_label].sample(n_samples).index\n",
    "    samples = data.iloc[samples_index, 0:784]\n",
    "    samples = np.array(samples).reshape(n_samples, 28,28)\n",
    "    \n",
    "    for axi, sample in zip(ax.flat, samples):\n",
    "        axi.axis('off')\n",
    "        axi.imshow(sample, interpolation='nearest', cmap=plt.cm.binary)\n",
    "    plt.subplots_adjust(wspace=0, hspace=0 )"
   ]
  },
  {
   "cell_type": "code",
   "execution_count": 7,
   "metadata": {},
   "outputs": [],
   "source": [
    "# Function clusterView() below is a widget function to help with visualization of the various clusters in tabs\n",
    "def clusterView(n_cluster, data):\n",
    "    import ipywidgets as widgets\n",
    "    \n",
    "    #initiate the widget objects into a list\n",
    "    outs = [widgets.Output() for i in range(n_cluster)]\n",
    "    tab = widgets.Tab(children = outs)\n",
    "    \n",
    "    #Set the title of each widget tab\n",
    "    for i in range(n_cluster):    \n",
    "        title = 'Clu-'+ str(i)\n",
    "        tab.set_title(i, title)\n",
    "    display(tab)\n",
    "    \n",
    "    for i in range(n_cluster):\n",
    "        with outs[i]:\n",
    "            fig = viewCluster(i, data)\n",
    "            plt.show(fig)"
   ]
  },
  {
   "cell_type": "code",
   "execution_count": 8,
   "metadata": {
    "scrolled": false
   },
   "outputs": [
    {
     "data": {
      "application/vnd.jupyter.widget-view+json": {
       "model_id": "1c2aaf069215499588f4d26c7b49bcba",
       "version_major": 2,
       "version_minor": 0
      },
      "text/plain": [
       "Tab(children=(Output(), Output(), Output(), Output(), Output(), Output(), Output(), Output(), Output(), Output…"
      ]
     },
     "metadata": {},
     "output_type": "display_data"
    }
   ],
   "source": [
    "# Let's visualize samples of the clusters to see what digits are contained in each cluster\n",
    "clusterView(num_clus, data=df)"
   ]
  },
  {
   "cell_type": "markdown",
   "metadata": {},
   "source": [
    "From the above visualization of the clusters, we can see that while some of the clusters show a clean grouping of certain digits, some other clusters are a mix-match. To try to improve this, we will increase the number o clusters in our model ."
   ]
  },
  {
   "cell_type": "markdown",
   "metadata": {},
   "source": [
    "## Exploring number of clusters for improvement"
   ]
  },
  {
   "cell_type": "code",
   "execution_count": 9,
   "metadata": {
    "scrolled": false
   },
   "outputs": [
    {
     "name": "stdout",
     "output_type": "stream",
     "text": [
      "Centers for 10 clusters:\n"
     ]
    },
    {
     "data": {
      "image/png": "[encoded data removed]",
      "text/plain": [
       "<Figure size 400x300 with 12 Axes>"
      ]
     },
     "metadata": {},
     "output_type": "display_data"
    },
    {
     "name": "stdout",
     "output_type": "stream",
     "text": [
      "Centers for 12 clusters:\n"
     ]
    },
    {
     "data": {
      "image/png": "[encoded data removed]",
      "text/plain": [
       "<Figure size 400x300 with 12 Axes>"
      ]
     },
     "metadata": {},
     "output_type": "display_data"
    },
    {
     "name": "stdout",
     "output_type": "stream",
     "text": [
      "Centers for 14 clusters:\n"
     ]
    },
    {
     "data": {
      "image/png": "[encoded data removed]",
      "text/plain": [
       "<Figure size 400x400 with 16 Axes>"
      ]
     },
     "metadata": {},
     "output_type": "display_data"
    },
    {
     "name": "stdout",
     "output_type": "stream",
     "text": [
      "Centers for 16 clusters:\n"
     ]
    },
    {
     "data": {
      "image/png": "[encoded data removed]",
      "text/plain": [
       "<Figure size 400x400 with 16 Axes>"
      ]
     },
     "metadata": {},
     "output_type": "display_data"
    }
   ],
   "source": [
    "num_clus = [10, 12, 14, 16]\n",
    "for c in num_clus:\n",
    "    kmeans = KMeans(n_clusters=c, random_state=0)\n",
    "    kmeans.fit(X)\n",
    "    clusters = pd.Series(kmeans.labels_)\n",
    "    \n",
    "    col = 4\n",
    "    row = math.ceil(c/col)\n",
    "    fig, ax = plt.subplots(row, col, figsize=(col, row))\n",
    "    centers = kmeans.cluster_centers_.reshape(c, 28, 28)\n",
    "    print(f'Centers for {c} clusters:')\n",
    "    for axi, center in zip(ax.flat, centers):\n",
    "        axi.axis('off')\n",
    "        axi.imshow(center, interpolation='nearest', cmap=plt.cm.binary)\n",
    "    plt.subplots_adjust(wspace=0, hspace=0 )\n",
    "    plt.show()"
   ]
  },
  {
   "cell_type": "markdown",
   "metadata": {},
   "source": [
    "From the above view of the centers of various clusters, we can see some improvements in the digits identified as the number of clusters increased. For example we see that with 10 clusters, we couldn't identify 4 and 7 at all while 5 was also not clear; with 14 clusters, we were able to identify the digit 7 clearly but lost digit 5; and with 16 clusters, we are able to see some faint resemblance of the digit 4.\n",
    "We will therefore settle on using 16 clusters to group the data. \n",
    "\n",
    "Next we visualize samples of each cluster in the clustered group to be able to label each one appropriately"
   ]
  },
  {
   "cell_type": "code",
   "execution_count": 10,
   "metadata": {},
   "outputs": [],
   "source": [
    "# Let's now create a model with 16 clusters\n",
    "num_clus = 16\n",
    "kmeans = KMeans(num_clus, random_state=0)\n",
    "kmeans.fit(X)\n",
    "\n",
    "# Combime the digit data (X) and the cluster labels, into 1 data frame\n",
    "clusters = pd.Series(kmeans.labels_, name='clusters')\n",
    "clusters = clusters.to_frame()\n",
    "df1 = pd.merge(X, clusters, left_index=True, right_index=True)"
   ]
  },
  {
   "cell_type": "code",
   "execution_count": 11,
   "metadata": {
    "scrolled": false
   },
   "outputs": [
    {
     "data": {
      "application/vnd.jupyter.widget-view+json": {
       "model_id": "52fa1415b9f64b418ea3ab62481feb3d",
       "version_major": 2,
       "version_minor": 0
      },
      "text/plain": [
       "Tab(children=(Output(), Output(), Output(), Output(), Output(), Output(), Output(), Output(), Output(), Output…"
      ]
     },
     "metadata": {},
     "output_type": "display_data"
    }
   ],
   "source": [
    "#View samples\n",
    "clusterView(num_clus, data=df1)"
   ]
  },
  {
   "cell_type": "code",
   "execution_count": 12,
   "metadata": {
    "scrolled": true
   },
   "outputs": [
    {
     "name": "stderr",
     "output_type": "stream",
     "text": [
      "C:\\Users\\adeni\\AppData\\Local\\Temp\\ipykernel_21880\\2363846081.py:4: SettingWithCopyWarning: \n",
      "A value is trying to be set on a copy of a slice from a DataFrame\n",
      "\n",
      "See the caveats in the documentation: https://pandas.pydata.org/pandas-docs/stable/user_guide/indexing.html#returning-a-view-versus-a-copy\n",
      "  df1['digit'][df1.clusters==0] = 2\n",
      "C:\\Users\\adeni\\AppData\\Local\\Temp\\ipykernel_21880\\2363846081.py:5: SettingWithCopyWarning: \n",
      "A value is trying to be set on a copy of a slice from a DataFrame\n",
      "\n",
      "See the caveats in the documentation: https://pandas.pydata.org/pandas-docs/stable/user_guide/indexing.html#returning-a-view-versus-a-copy\n",
      "  df1['digit'][df1.clusters==1] = 7\n",
      "C:\\Users\\adeni\\AppData\\Local\\Temp\\ipykernel_21880\\2363846081.py:6: SettingWithCopyWarning: \n",
      "A value is trying to be set on a copy of a slice from a DataFrame\n",
      "\n",
      "See the caveats in the documentation: https://pandas.pydata.org/pandas-docs/stable/user_guide/indexing.html#returning-a-view-versus-a-copy\n",
      "  df1['digit'][df1.clusters==2] = 0\n",
      "C:\\Users\\adeni\\AppData\\Local\\Temp\\ipykernel_21880\\2363846081.py:7: SettingWithCopyWarning: \n",
      "A value is trying to be set on a copy of a slice from a DataFrame\n",
      "\n",
      "See the caveats in the documentation: https://pandas.pydata.org/pandas-docs/stable/user_guide/indexing.html#returning-a-view-versus-a-copy\n",
      "  df1['digit'][df1.clusters==3] = 10\n",
      "C:\\Users\\adeni\\AppData\\Local\\Temp\\ipykernel_21880\\2363846081.py:8: SettingWithCopyWarning: \n",
      "A value is trying to be set on a copy of a slice from a DataFrame\n",
      "\n",
      "See the caveats in the documentation: https://pandas.pydata.org/pandas-docs/stable/user_guide/indexing.html#returning-a-view-versus-a-copy\n",
      "  df1['digit'][df1.clusters==4] = 1\n",
      "C:\\Users\\adeni\\AppData\\Local\\Temp\\ipykernel_21880\\2363846081.py:9: SettingWithCopyWarning: \n",
      "A value is trying to be set on a copy of a slice from a DataFrame\n",
      "\n",
      "See the caveats in the documentation: https://pandas.pydata.org/pandas-docs/stable/user_guide/indexing.html#returning-a-view-versus-a-copy\n",
      "  df1['digit'][df1.clusters==5] = 3\n",
      "C:\\Users\\adeni\\AppData\\Local\\Temp\\ipykernel_21880\\2363846081.py:10: SettingWithCopyWarning: \n",
      "A value is trying to be set on a copy of a slice from a DataFrame\n",
      "\n",
      "See the caveats in the documentation: https://pandas.pydata.org/pandas-docs/stable/user_guide/indexing.html#returning-a-view-versus-a-copy\n",
      "  df1['digit'][df1.clusters==6] = 5\n",
      "C:\\Users\\adeni\\AppData\\Local\\Temp\\ipykernel_21880\\2363846081.py:11: SettingWithCopyWarning: \n",
      "A value is trying to be set on a copy of a slice from a DataFrame\n",
      "\n",
      "See the caveats in the documentation: https://pandas.pydata.org/pandas-docs/stable/user_guide/indexing.html#returning-a-view-versus-a-copy\n",
      "  df1['digit'][df1.clusters==7] = 6\n",
      "C:\\Users\\adeni\\AppData\\Local\\Temp\\ipykernel_21880\\2363846081.py:12: SettingWithCopyWarning: \n",
      "A value is trying to be set on a copy of a slice from a DataFrame\n",
      "\n",
      "See the caveats in the documentation: https://pandas.pydata.org/pandas-docs/stable/user_guide/indexing.html#returning-a-view-versus-a-copy\n",
      "  df1['digit'][df1.clusters==8] = 10\n",
      "C:\\Users\\adeni\\AppData\\Local\\Temp\\ipykernel_21880\\2363846081.py:13: SettingWithCopyWarning: \n",
      "A value is trying to be set on a copy of a slice from a DataFrame\n",
      "\n",
      "See the caveats in the documentation: https://pandas.pydata.org/pandas-docs/stable/user_guide/indexing.html#returning-a-view-versus-a-copy\n",
      "  df1['digit'][df1.clusters==9] = 0\n",
      "C:\\Users\\adeni\\AppData\\Local\\Temp\\ipykernel_21880\\2363846081.py:14: SettingWithCopyWarning: \n",
      "A value is trying to be set on a copy of a slice from a DataFrame\n",
      "\n",
      "See the caveats in the documentation: https://pandas.pydata.org/pandas-docs/stable/user_guide/indexing.html#returning-a-view-versus-a-copy\n",
      "  df1['digit'][df1.clusters==10] = 10\n",
      "C:\\Users\\adeni\\AppData\\Local\\Temp\\ipykernel_21880\\2363846081.py:15: SettingWithCopyWarning: \n",
      "A value is trying to be set on a copy of a slice from a DataFrame\n",
      "\n",
      "See the caveats in the documentation: https://pandas.pydata.org/pandas-docs/stable/user_guide/indexing.html#returning-a-view-versus-a-copy\n",
      "  df1['digit'][df1.clusters==11] = 9\n",
      "C:\\Users\\adeni\\AppData\\Local\\Temp\\ipykernel_21880\\2363846081.py:16: SettingWithCopyWarning: \n",
      "A value is trying to be set on a copy of a slice from a DataFrame\n",
      "\n",
      "See the caveats in the documentation: https://pandas.pydata.org/pandas-docs/stable/user_guide/indexing.html#returning-a-view-versus-a-copy\n",
      "  df1['digit'][df1.clusters==12] = 6\n",
      "C:\\Users\\adeni\\AppData\\Local\\Temp\\ipykernel_21880\\2363846081.py:17: SettingWithCopyWarning: \n",
      "A value is trying to be set on a copy of a slice from a DataFrame\n",
      "\n",
      "See the caveats in the documentation: https://pandas.pydata.org/pandas-docs/stable/user_guide/indexing.html#returning-a-view-versus-a-copy\n",
      "  df1['digit'][df1.clusters==13] = 4\n",
      "C:\\Users\\adeni\\AppData\\Local\\Temp\\ipykernel_21880\\2363846081.py:18: SettingWithCopyWarning: \n",
      "A value is trying to be set on a copy of a slice from a DataFrame\n",
      "\n",
      "See the caveats in the documentation: https://pandas.pydata.org/pandas-docs/stable/user_guide/indexing.html#returning-a-view-versus-a-copy\n",
      "  df1['digit'][df1.clusters==14] = 8\n",
      "C:\\Users\\adeni\\AppData\\Local\\Temp\\ipykernel_21880\\2363846081.py:19: SettingWithCopyWarning: \n",
      "A value is trying to be set on a copy of a slice from a DataFrame\n",
      "\n",
      "See the caveats in the documentation: https://pandas.pydata.org/pandas-docs/stable/user_guide/indexing.html#returning-a-view-versus-a-copy\n",
      "  df1['digit'][df1.clusters==15] = 10\n"
     ]
    }
   ],
   "source": [
    "# Set the digits for the clusters using digits 0 - 10.\n",
    "# 10 represents every other cluster that contains digits not well classified\n",
    "df1['digit'] = 0\n",
    "df1['digit'][df1.clusters==0] = 2\n",
    "df1['digit'][df1.clusters==1] = 7\n",
    "df1['digit'][df1.clusters==2] = 0\n",
    "df1['digit'][df1.clusters==3] = 10\n",
    "df1['digit'][df1.clusters==4] = 1\n",
    "df1['digit'][df1.clusters==5] = 3\n",
    "df1['digit'][df1.clusters==6] = 5\n",
    "df1['digit'][df1.clusters==7] = 6\n",
    "df1['digit'][df1.clusters==8] = 10\n",
    "df1['digit'][df1.clusters==9] = 0\n",
    "df1['digit'][df1.clusters==10] = 10\n",
    "df1['digit'][df1.clusters==11] = 9\n",
    "df1['digit'][df1.clusters==12] = 6\n",
    "df1['digit'][df1.clusters==13] = 4\n",
    "df1['digit'][df1.clusters==14] = 8\n",
    "df1['digit'][df1.clusters==15] = 10"
   ]
  },
  {
   "cell_type": "markdown",
   "metadata": {},
   "source": [
    "## Generating Digits from clusters\n"
   ]
  },
  {
   "cell_type": "code",
   "execution_count": 13,
   "metadata": {},
   "outputs": [],
   "source": [
    "def writeNumber(num):\n",
    "    # Convert number to list of digits\n",
    "    try: \n",
    "        num_digits = [int(i) for i in str(num)]\n",
    "    except:\n",
    "        print('Error! Your parameter is not all digits')\n",
    "    else:\n",
    "        digit_reps = []\n",
    "        for digit in num_digits:\n",
    "            digit_rep = df1[df1['digit']==digit].drop(['clusters','digit'], axis=1).sample()\n",
    "            digit_reps.append(digit_rep)\n",
    "\n",
    "        # Plot the center of the clusters to visualize the data\n",
    "        col = len(num_digits)\n",
    "        if col == 1:\n",
    "            fig, ax = plt.subplots(figsize=(1,1))\n",
    "            ax.imshow(np.array(digit_reps[0]).reshape(28, 28), interpolation='nearest', cmap=plt.cm.binary)\n",
    "            ax.axis('off')\n",
    "        else:\n",
    "            fig, ax = plt.subplots(1, col)\n",
    "            digit_reps = np.array(digit_reps).reshape(col, 28, 28)\n",
    "            for axi, digit in zip(ax.flat, digit_reps):\n",
    "                axi.axis('off')\n",
    "                axi.imshow(digit, interpolation='nearest', cmap=plt.cm.binary)"
   ]
  },
  {
   "cell_type": "code",
   "execution_count": 14,
   "metadata": {},
   "outputs": [
    {
     "data": {
      "image/png": "[encoded data removed]",
      "text/plain": [
       "<Figure size 640x480 with 10 Axes>"
      ]
     },
     "metadata": {},
     "output_type": "display_data"
    }
   ],
   "source": [
    "writeNumber(9876543210)"
   ]
  },
  {
   "cell_type": "code",
   "execution_count": 15,
   "metadata": {},
   "outputs": [
    {
     "data": {
      "image/png": "[encoded data removed]",
      "text/plain": [
       "<Figure size 100x100 with 1 Axes>"
      ]
     },
     "metadata": {},
     "output_type": "display_data"
    }
   ],
   "source": [
    "writeNumber(0)"
   ]
  },
  {
   "cell_type": "code",
   "execution_count": 16,
   "metadata": {},
   "outputs": [
    {
     "data": {
      "image/png": "[encoded data removed]",
      "text/plain": [
       "<Figure size 640x480 with 6 Axes>"
      ]
     },
     "metadata": {},
     "output_type": "display_data"
    }
   ],
   "source": [
    "writeNumber(556677)"
   ]
  }
 ],
 "metadata": {
  "interpreter": {
   "hash": "4d722d3adfa415172c1f5238b519fb86b488acdae450fd691ab06c09f4ca9173"
  },
  "kernelspec": {
   "display_name": "Python 3 (ipykernel)",
   "language": "python",
   "name": "python3"
  },
  "language_info": {
   "codemirror_mode": {
    "name": "ipython",
    "version": 3
   },
   "file_extension": ".py",
   "mimetype": "text/x-python",
   "name": "python",
   "nbconvert_exporter": "python",
   "pygments_lexer": "ipython3",
   "version": "3.11.4"
  }
 },
 "nbformat": 4,
 "nbformat_minor": 2
}
